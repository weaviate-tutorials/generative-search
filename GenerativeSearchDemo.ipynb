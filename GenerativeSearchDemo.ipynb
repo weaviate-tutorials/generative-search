{
 "cells": [
  {
   "cell_type": "code",
   "execution_count": null,
   "id": "204f9226",
   "metadata": {},
   "outputs": [],
   "source": [
    "# You need to install the python Weaviate client\n",
    "!pip install weaviate-client"
   ]
  },
  {
   "cell_type": "markdown",
   "id": "5da93764",
   "metadata": {},
   "source": [
    "## Download data\n",
    "Download data from [drive](https://drive.google.com/file/d/1W8nBPZA2j1_6AGnw2BAe6ydXLNXzuDq2/view?usp=share_link)"
   ]
  },
  {
   "cell_type": "code",
   "execution_count": 1,
   "id": "abcb341b",
   "metadata": {},
   "outputs": [
    {
     "name": "stdout",
     "output_type": "stream",
     "text": [
      "3.15.4\n"
     ]
    }
   ],
   "source": [
    "import weaviate\n",
    "\n",
    "print(weaviate.__version__)"
   ]
  },
  {
   "cell_type": "markdown",
   "id": "fe10c32b",
   "metadata": {},
   "source": [
    "## Configure the Weaviate Cloud Instance\n",
    "### Free 14 day sandbox here: https://console.weaviate.cloud/"
   ]
  },
  {
   "cell_type": "code",
   "execution_count": 43,
   "id": "b6bfb80e",
   "metadata": {},
   "outputs": [
    {
     "data": {
      "text/plain": [
       "True"
      ]
     },
     "execution_count": 43,
     "metadata": {},
     "output_type": "execute_result"
    }
   ],
   "source": [
    "import os\n",
    "import weaviate\n",
    "from wcs_key import wcs_token\n",
    "\n",
    "auth_config = weaviate.auth.AuthApiKey(api_key=wcs_token)  # Replace w/ your API Key for the Weaviate instance\n",
    "\n",
    "client = weaviate.Client(\n",
    "    url=\"https://deep-hackathon-demo-krewbk5v.weaviate.network\",\n",
    "    auth_client_secret=auth_config,\n",
    "    additional_headers={\n",
    "        \"X-Cohere-Api-Key\": os.getenv(\"COHERE_API_KEY\"),   # Replace w/ your Cohere Key \n",
    "        \"X-OpenAI-Api-Key\": os.getenv(\"OPENAI_API_KEY\"),   # Replace w/ your OpenAI Key \n",
    "    }\n",
    ")\n",
    "client.is_ready()"
   ]
  },
  {
   "cell_type": "code",
   "execution_count": 3,
   "id": "c33db8df",
   "metadata": {},
   "outputs": [
    {
     "data": {
      "text/plain": [
       "'3.15.4'"
      ]
     },
     "execution_count": 3,
     "metadata": {},
     "output_type": "execute_result"
    }
   ],
   "source": [
    "weaviate.__version__"
   ]
  },
  {
   "cell_type": "markdown",
   "id": "395b6edc",
   "metadata": {},
   "source": [
    "## Create Database Schema"
   ]
  },
  {
   "cell_type": "code",
   "execution_count": 4,
   "id": "dde8cb41",
   "metadata": {},
   "outputs": [
    {
     "name": "stdout",
     "output_type": "stream",
     "text": [
      "The schema has been created\n"
     ]
    }
   ],
   "source": [
    "# delete existing schema, (note, this will delete all your weaviate data)\n",
    "#client.schema.delete_all()\n",
    "\n",
    "article_schema = {\n",
    "    \"class\": \"Article\",\n",
    "    \"description\": \"Wiki Article\",\n",
    "    \"vectorizer\": \"text2vec-cohere\",#multi-lingual\n",
    "    \"moduleConfig\": {\n",
    "        \"text2vec-cohere\": {\n",
    "            \"model\": \"multilingual-22-12\",\n",
    "            \"truncate\": \"RIGHT\"\n",
    "        }\n",
    "    },\n",
    "    \"vectorIndexConfig\": {\n",
    "        \"distance\": \"dot\"\n",
    "    },\n",
    "    \"properties\": [\n",
    "    {\n",
    "        \"name\": \"text\",\n",
    "        \"dataType\": [ \"text\" ],\n",
    "        \"description\": \"Article body\",\n",
    "        \"moduleConfig\": {\n",
    "            \"text2vec-cohere\": {\n",
    "                \"skip\": False,\n",
    "                \"vectorizePropertyName\": False\n",
    "            }\n",
    "        }\n",
    "    },\n",
    "    {\n",
    "        \"name\": \"title\",\n",
    "        \"dataType\": [ \"string\" ],\n",
    "        \"moduleConfig\": { \"text2vec-cohere\": { \"skip\": True } }\n",
    "    },\n",
    "    {\n",
    "        \"name\": \"url\",\n",
    "        \"dataType\": [ \"string\" ],\n",
    "        \"moduleConfig\": { \"text2vec-cohere\": { \"skip\": True } }\n",
    "    },\n",
    "    {\n",
    "        \"name\": \"wiki_id\",\n",
    "        \"dataType\": [ \"int\" ],\n",
    "        \"moduleConfig\": { \"text2vec-cohere\": { \"skip\": True } }\n",
    "    },\n",
    "    {\n",
    "        \"name\": \"views\",\n",
    "        \"dataType\": [ \"number\" ],\n",
    "        \"moduleConfig\": { \"text2vec-cohere\": { \"skip\": True } }\n",
    "    },\n",
    "    ]\n",
    "}\n",
    "\n",
    "# add the schema\n",
    "client.schema.create_class(article_schema)\n",
    "\n",
    "print(\"The schema has been created\")"
   ]
  },
  {
   "cell_type": "code",
   "execution_count": 5,
   "id": "f1475bdb",
   "metadata": {},
   "outputs": [],
   "source": [
    "import pandas as pd\n",
    "df = pd.read_parquet('wiki_simple_100k.parquet')"
   ]
  },
  {
   "cell_type": "code",
   "execution_count": 6,
   "id": "64659c31",
   "metadata": {},
   "outputs": [
    {
     "data": {
      "text/html": [
       "<div>\n",
       "<style scoped>\n",
       "    .dataframe tbody tr th:only-of-type {\n",
       "        vertical-align: middle;\n",
       "    }\n",
       "\n",
       "    .dataframe tbody tr th {\n",
       "        vertical-align: top;\n",
       "    }\n",
       "\n",
       "    .dataframe thead th {\n",
       "        text-align: right;\n",
       "    }\n",
       "</style>\n",
       "<table border=\"1\" class=\"dataframe\">\n",
       "  <thead>\n",
       "    <tr style=\"text-align: right;\">\n",
       "      <th></th>\n",
       "      <th>id</th>\n",
       "      <th>title</th>\n",
       "      <th>text</th>\n",
       "      <th>url</th>\n",
       "      <th>wiki_id</th>\n",
       "      <th>views</th>\n",
       "      <th>paragraph_id</th>\n",
       "      <th>langs</th>\n",
       "      <th>emb</th>\n",
       "    </tr>\n",
       "  </thead>\n",
       "  <tbody>\n",
       "    <tr>\n",
       "      <th>0</th>\n",
       "      <td>0</td>\n",
       "      <td>24-hour clock</td>\n",
       "      <td>The 24-hour clock is a way of telling the time...</td>\n",
       "      <td>https://simple.wikipedia.org/wiki?curid=9985</td>\n",
       "      <td>9985</td>\n",
       "      <td>2450.625488</td>\n",
       "      <td>0</td>\n",
       "      <td>30</td>\n",
       "      <td>[0.07711287587881088, 0.3197174072265625, -0.2...</td>\n",
       "    </tr>\n",
       "    <tr>\n",
       "      <th>1</th>\n",
       "      <td>1</td>\n",
       "      <td>24-hour clock</td>\n",
       "      <td>A time in the 24-hour clock is written in the ...</td>\n",
       "      <td>https://simple.wikipedia.org/wiki?curid=9985</td>\n",
       "      <td>9985</td>\n",
       "      <td>2450.625488</td>\n",
       "      <td>1</td>\n",
       "      <td>30</td>\n",
       "      <td>[0.19612890481948853, 0.5142669677734375, 0.03...</td>\n",
       "    </tr>\n",
       "    <tr>\n",
       "      <th>2</th>\n",
       "      <td>2</td>\n",
       "      <td>24-hour clock</td>\n",
       "      <td>However, the US military prefers not to say 24...</td>\n",
       "      <td>https://simple.wikipedia.org/wiki?curid=9985</td>\n",
       "      <td>9985</td>\n",
       "      <td>2450.625488</td>\n",
       "      <td>2</td>\n",
       "      <td>30</td>\n",
       "      <td>[0.1391918957233429, 0.17759686708450317, -0.1...</td>\n",
       "    </tr>\n",
       "    <tr>\n",
       "      <th>3</th>\n",
       "      <td>3</td>\n",
       "      <td>24-hour clock</td>\n",
       "      <td>24-hour clock time is used in computers, milit...</td>\n",
       "      <td>https://simple.wikipedia.org/wiki?curid=9985</td>\n",
       "      <td>9985</td>\n",
       "      <td>2450.625488</td>\n",
       "      <td>3</td>\n",
       "      <td>30</td>\n",
       "      <td>[0.1279686838388443, 0.06708071380853653, -0.0...</td>\n",
       "    </tr>\n",
       "    <tr>\n",
       "      <th>4</th>\n",
       "      <td>4</td>\n",
       "      <td>24-hour clock</td>\n",
       "      <td>In railway timetables 24:00 means the \"end\" of...</td>\n",
       "      <td>https://simple.wikipedia.org/wiki?curid=9985</td>\n",
       "      <td>9985</td>\n",
       "      <td>2450.625488</td>\n",
       "      <td>4</td>\n",
       "      <td>30</td>\n",
       "      <td>[0.0753360167145729, 0.3530837893486023, -0.08...</td>\n",
       "    </tr>\n",
       "  </tbody>\n",
       "</table>\n",
       "</div>"
      ],
      "text/plain": [
       "   id          title                                               text  \\\n",
       "0   0  24-hour clock  The 24-hour clock is a way of telling the time...   \n",
       "1   1  24-hour clock  A time in the 24-hour clock is written in the ...   \n",
       "2   2  24-hour clock  However, the US military prefers not to say 24...   \n",
       "3   3  24-hour clock  24-hour clock time is used in computers, milit...   \n",
       "4   4  24-hour clock  In railway timetables 24:00 means the \"end\" of...   \n",
       "\n",
       "                                            url  wiki_id        views  \\\n",
       "0  https://simple.wikipedia.org/wiki?curid=9985     9985  2450.625488   \n",
       "1  https://simple.wikipedia.org/wiki?curid=9985     9985  2450.625488   \n",
       "2  https://simple.wikipedia.org/wiki?curid=9985     9985  2450.625488   \n",
       "3  https://simple.wikipedia.org/wiki?curid=9985     9985  2450.625488   \n",
       "4  https://simple.wikipedia.org/wiki?curid=9985     9985  2450.625488   \n",
       "\n",
       "   paragraph_id  langs                                                emb  \n",
       "0             0     30  [0.07711287587881088, 0.3197174072265625, -0.2...  \n",
       "1             1     30  [0.19612890481948853, 0.5142669677734375, 0.03...  \n",
       "2             2     30  [0.1391918957233429, 0.17759686708450317, -0.1...  \n",
       "3             3     30  [0.1279686838388443, 0.06708071380853653, -0.0...  \n",
       "4             4     30  [0.0753360167145729, 0.3530837893486023, -0.08...  "
      ]
     },
     "execution_count": 6,
     "metadata": {},
     "output_type": "execute_result"
    }
   ],
   "source": [
    "df.head()"
   ]
  },
  {
   "cell_type": "markdown",
   "id": "a2a86fb4",
   "metadata": {},
   "source": [
    "## Batch and Add 100k Wikipedia Articles to Weaviate"
   ]
  },
  {
   "cell_type": "code",
   "execution_count": 8,
   "id": "5f4a984c",
   "metadata": {},
   "outputs": [
    {
     "data": {
      "text/plain": [
       "<weaviate.batch.crud_batch.Batch at 0x7feeeaa46730>"
      ]
     },
     "execution_count": 8,
     "metadata": {},
     "output_type": "execute_result"
    }
   ],
   "source": [
    "### Step 1 - configure Weaviate Batch, which optimizes CRUD operations in bulk\n",
    "# - starting batch size of 100\n",
    "# - dynamically increase/decrease based on performance\n",
    "# - add timeout retries if something goes wrong\n",
    "\n",
    "client.batch.configure(\n",
    "    batch_size=100,\n",
    "    dynamic=True,\n",
    "    timeout_retries=3,\n",
    ")"
   ]
  },
  {
   "cell_type": "code",
   "execution_count": 9,
   "id": "d92b1202",
   "metadata": {},
   "outputs": [
    {
     "name": "stdout",
     "output_type": "stream",
     "text": [
      "Import 100000 / 100000\n",
      "Import complete\n"
     ]
    }
   ],
   "source": [
    "data = df[:100_000] # make sure it is not more than 100k objects\n",
    "\n",
    "counter=0\n",
    "\n",
    "with client.batch as batch:\n",
    "    for idx, item in data.iterrows():        \n",
    "        # print update message every 100 objects        \n",
    "        if (counter %100 == 0):\n",
    "            print(f\"Import {counter} / {len(data)} \", end=\"\\r\")\n",
    "\n",
    "        properties = {\n",
    "        \"text\": item[\"text\"],\n",
    "        \"title\": item[\"title\"],\n",
    "        \"url\": item[\"url\"],\n",
    "        \"views\": item[\"views\"],\n",
    "        \"wiki_id\": item[\"wiki_id\"]\n",
    "        }\n",
    "\n",
    "        vector = item[\"emb\"]\n",
    "\n",
    "        batch.add_data_object(properties, \"Article\", None, vector)\n",
    "        counter = counter+1\n",
    "    print(f\"Import {counter} / {len(data)}\")\n",
    "        \n",
    "print(\"Import complete\")"
   ]
  },
  {
   "cell_type": "code",
   "execution_count": 10,
   "id": "249c4367",
   "metadata": {},
   "outputs": [
    {
     "name": "stdout",
     "output_type": "stream",
     "text": [
      "Object count:  [{'meta': {'count': 100000}}]\n"
     ]
    }
   ],
   "source": [
    "# Test that all data has loaded – get object count\n",
    "result = (\n",
    "    client.query.aggregate(\"Article\")\n",
    "    .with_fields(\"meta { count }\")\n",
    "    .do()\n",
    ")\n",
    "print(\"Object count: \", result[\"data\"][\"Aggregate\"][\"Article\"])"
   ]
  },
  {
   "cell_type": "code",
   "execution_count": 11,
   "id": "a004d241",
   "metadata": {},
   "outputs": [],
   "source": [
    "def semantic_search(query):\n",
    "    nearText = {\n",
    "        \"concepts\": [query],\n",
    "#         \"distance\": -139.0,\n",
    "    }\n",
    "\n",
    "    properties = [\n",
    "        \"text\", \"title\", \"url\", \"views\",\n",
    "        \"_additional {distance}\"\n",
    "    ]\n",
    "\n",
    "    response = (\n",
    "        client.query\n",
    "        .get(\"Article\", properties)\n",
    "        .with_near_text(nearText)\n",
    "        .with_limit(5)\n",
    "        .do()\n",
    "    )\n",
    "\n",
    "    result = response['data']['Get']['Article']\n",
    "\n",
    "    return result\n",
    "    \n",
    "def print_result(result):\n",
    "    for item in result:\n",
    "        print(f\"\\033[95m{item['title']} ({item['views']}) {item['_additional']['distance']}\\033[0m\")\n",
    "        print(f\"\\033[4m{item['url']}\\033[0m\")\n",
    "        print(item['text'])\n",
    "        print()"
   ]
  },
  {
   "cell_type": "markdown",
   "id": "c1f4f3af",
   "metadata": {},
   "source": [
    "## Search through your data\n",
    "1. Vector Search\n",
    "2. Classic Word Search\n",
    "3. Hybrid Search\n",
    "4. Generative Search"
   ]
  },
  {
   "cell_type": "code",
   "execution_count": 77,
   "id": "556bda5c",
   "metadata": {},
   "outputs": [
    {
     "name": "stdout",
     "output_type": "stream",
     "text": [
      "The term avocado refers to a type of berry. It has medium dark green or dark green bumpy or smooth skin depending on the variety. The flesh of an avocado is deep chartreuse green in color near the skin and pale chartreuse green near the core. It has a creamy, rich texture. The word, Avocado came from a aztec word meaning testicle. Avocado trees come from Central America and Mexico. They can grow in many places, as long as it is not too cold.\n"
     ]
    }
   ],
   "source": [
    "where_filter = {\n",
    "  \"path\": [\"title\"],\n",
    "  \"operator\": \"Like\", #\n",
    "  \"valueString\": \"Avocado\"\n",
    "}\n",
    "\n",
    "query_result = (\n",
    "  client.query\n",
    "  .get(\"Article\", [\"title\", \"text\"])\n",
    "  .with_where(where_filter)\n",
    "  .do()\n",
    ")\n",
    "\n",
    "print(query_result['data']['Get']['Article'][0]['text'])"
   ]
  },
  {
   "cell_type": "code",
   "execution_count": 78,
   "id": "0e778982",
   "metadata": {},
   "outputs": [
    {
     "name": "stdout",
     "output_type": "stream",
     "text": [
      "\u001b[95mPython (programming language) (398.0628356933594) -147.34064\u001b[0m\n",
      "\u001b[4mhttps://simple.wikipedia.org/wiki?curid=44678\u001b[0m\n",
      "Python has become one of the most famous programming languages on the world as of late. It's utilized in all that from AI to building sites and programming testing. It tends to be utilized by engineers and non-designers the same.\n",
      "\n",
      "\u001b[95mC++ (194.4631805419922) -146.67387\u001b[0m\n",
      "\u001b[4mhttps://simple.wikipedia.org/wiki?curid=7535\u001b[0m\n",
      "C++ (pronounced \"see plus plus\") is a computer programming language based on C. It was created for writing programs for many different purposes. In the 1990s, C++ became one of the most used programming languages in the world. Like C, C++ uses manual memory management (unlike most mainstream languages, where memory management is automatic), while the syntax usually used for it is different.\n",
      "\n",
      "\u001b[95mCentral processing unit (575.814453125) -146.48938\u001b[0m\n",
      "\u001b[4mhttps://simple.wikipedia.org/wiki?curid=17376\u001b[0m\n",
      "Machine code is just a sequence of 0s and 1s, which makes it difficult for humans to read it. To make it more readable, machine code programs are usually written in \"assembly language\". Assembly language uses text instead of 0s and 1s: You might write \"LD A,0\" to load the value 0 into register A for example. A program that translates assembly language into machine code is called an \"assembler\".\n",
      "\n",
      "\u001b[95mPython (programming language) (398.0628356933594) -146.35106\u001b[0m\n",
      "\u001b[4mhttps://simple.wikipedia.org/wiki?curid=44678\u001b[0m\n",
      "Because of its corporate sponsorship and huge steady local area of python, python has amazing libraries that you can use to choose and save your time and exertion on the underlying pattern of improvement. There are additionally heaps of cloud media benefits that get stage support through library-like apparatuses, which can be very gainful.\n",
      "\n",
      "\u001b[95mProgramming language (574.8416748046875) -146.30487\u001b[0m\n",
      "\u001b[4mhttps://simple.wikipedia.org/wiki?curid=6362\u001b[0m\n",
      "Object-oriented programming is used in many of today's most popular programming languages, such as Java, C#, Objective-C, C++, Python, Ruby, Javascript, and ActionScript.\n",
      "\n"
     ]
    }
   ],
   "source": [
    "query_result = semantic_search(\"a programming language used for machine learning\")\n",
    "\n",
    "print_result(query_result)"
   ]
  },
  {
   "cell_type": "markdown",
   "id": "844728c4",
   "metadata": {},
   "source": [
    "## This is a Multi-Lingual Model"
   ]
  },
  {
   "cell_type": "code",
   "execution_count": 79,
   "id": "59cc15dc",
   "metadata": {},
   "outputs": [
    {
     "name": "stdout",
     "output_type": "stream",
     "text": [
      "\u001b[95mGoodfellas (59.27198791503906) -145.6997\u001b[0m\n",
      "\u001b[4mhttps://simple.wikipedia.org/wiki?curid=18427\u001b[0m\n",
      "Goodfellas is a 1990 American biographical crime movie directed by Martin Scorsese. It is about life in the Mafia.\n",
      "\n",
      "\u001b[95mGoodfellas (59.27198791503906) -144.94539\u001b[0m\n",
      "\u001b[4mhttps://simple.wikipedia.org/wiki?curid=18427\u001b[0m\n",
      "It is set in New York City. The movie is based on the life of mafioso Henry Hill (1943-2012) from 1955 - 1980. \"Goodfellas\" uses information from New York crime reporter Nicholas Pileggi's book \"Wiseguy\". Scorsese and Pileggi worked together to write the movie.\n",
      "\n",
      "\u001b[95mGoodfellas (59.27198791503906) -144.38777\u001b[0m\n",
      "\u001b[4mhttps://simple.wikipedia.org/wiki?curid=18427\u001b[0m\n",
      "\"Goodfellas\" was first shown at the 1990 Venice Film Festival. Scorsese received the Silver Lion award for Best Director.\n",
      "\n",
      "\u001b[95mBen Affleck (118.5960922241211) -144.36804\u001b[0m\n",
      "\u001b[4mhttps://simple.wikipedia.org/wiki?curid=64729\u001b[0m\n",
      "Benjamin Géza Affleck-Boldt (born August 15, 1972) is an American actor, movie director, producer and screenwriter. He became well known in the late 1990s, after acting in the movie \"Good Will Hunting\". He has since become a Hollywood star having acted in several movies.\n",
      "\n",
      "\u001b[95mGoodfellas (59.27198791503906) -144.3625\u001b[0m\n",
      "\u001b[4mhttps://simple.wikipedia.org/wiki?curid=18427\u001b[0m\n",
      "It gained six nominations for Oscars. It won one (for Joe Pesci's role). Many people thought the movie was great.\n",
      "\n"
     ]
    }
   ],
   "source": [
    "# This is a multi-lingual model so it can take in queries in different languages!\n",
    "\n",
    "#good movies in hindi\n",
    "\n",
    "query_result = semantic_search(\"अच्छी फिल्में\")\n",
    "\n",
    "print_result(query_result)"
   ]
  },
  {
   "cell_type": "code",
   "execution_count": 80,
   "id": "6214567f",
   "metadata": {},
   "outputs": [
    {
     "name": "stdout",
     "output_type": "stream",
     "text": [
      "\u001b[95mBaden-Württemberg (37.600975036621094) -145.33817\u001b[0m\n",
      "\u001b[4mhttps://simple.wikipedia.org/wiki?curid=2907\u001b[0m\n",
      "The Black forest, the Swabian Alb and the Lake Constance are world famous holiday regions. The highest mountain is the Feldberg (1492m).\n",
      "\n",
      "\u001b[95mGuernsey (373.6320495605469) -144.96051\u001b[0m\n",
      "\u001b[4mhttps://simple.wikipedia.org/wiki?curid=11615\u001b[0m\n",
      "Castel, Forest, St Andrews, St Martins, St Peter Port, St Pierre du bois, St Sampson, St Saviour's, Torteval, Vale.\n",
      "\n",
      "\u001b[95mLeisure (127.69661712646484) -144.43259\u001b[0m\n",
      "\u001b[4mhttps://simple.wikipedia.org/wiki?curid=423\u001b[0m\n",
      "A vacation or holiday is the setting aside of time specifically for leisure. During their vacation, some people travel to a different region or country, and stay at a hotel so that they can do things they could not do near home. Other people prefer to spend their vacation time at home in their own community.\n",
      "\n",
      "\u001b[95mThe Bahamas (103.01834869384766) -143.8995\u001b[0m\n",
      "\u001b[4mhttps://simple.wikipedia.org/wiki?curid=10487\u001b[0m\n",
      "The Bahamas are a popular place for people to visit for holidays, the 700 islands and cays attract many visitors from nearby America, as well as Europe and other countries.\n",
      "\n",
      "\u001b[95mFaroe Islands (66.96114349365234) -143.83974\u001b[0m\n",
      "\u001b[4mhttps://simple.wikipedia.org/wiki?curid=19078\u001b[0m\n",
      "The national holiday Ólavsøka, is on 29 July. It commemorates the death of Saint Olaf. The celebrations are held in Tórshavn. They start on the evening of the 28th, and go until 31 July.\n",
      "\n"
     ]
    }
   ],
   "source": [
    "#vacation spots in Farsi\n",
    "\n",
    "query_result = semantic_search(\"مکان های تعطیلات\")\n",
    "\n",
    "print_result(query_result)"
   ]
  },
  {
   "cell_type": "code",
   "execution_count": 81,
   "id": "07dd0b3f",
   "metadata": {},
   "outputs": [
    {
     "name": "stdout",
     "output_type": "stream",
     "text": [
      "\u001b[95mVirat Kohli (839.5772705078125) -151.58066\u001b[0m\n",
      "\u001b[4mhttps://simple.wikipedia.org/wiki?curid=454146\u001b[0m\n",
      "Virat Kohli first came into the limelight in 2008, when he led the Indian U-19 cricket team to victory in 2008 U-19 Cricket World Cup He soon made his debut for the Indian team in August 2008. during a ODI match against in Sri Lanka. Virat also became one of the valuable Indian captain in Test cricket with 27 test wins, 12 overseas test wins and highest winning percentage as captain in both Tests and ODIs. Kohli was ranked eighth in ESPN's list of world's most famous sportspeople in 2016. Virat is the only current player to have a stand named after him in Delhi Firoz Shah Kotla stadium to honour his immaculate contributions to Indian cricket.\n",
      "\n",
      "\u001b[95mRahul Dravid (60.60616683959961) -149.63435\u001b[0m\n",
      "\u001b[4mhttps://simple.wikipedia.org/wiki?curid=547524\u001b[0m\n",
      "Rahul Dravid is a sports player who has stopped playing professionally. He used to play cricket and was captain of the national cricket team of India. He was famous, and many people think he is one of the best cricket players ever. He scored the fourth-moust runs of any player, after Sachin Tendulkar, Ricky Ponting and Jacques Kallis. He was born in January 11, 1973 in Indore, Madhya Pradesh in India. He is the only player in the world to score a century against all ten test playing countries.\n",
      "\n",
      "\u001b[95mSachin Tendulkar (177.61460876464844) -149.19772\u001b[0m\n",
      "\u001b[4mhttps://simple.wikipedia.org/wiki?curid=188032\u001b[0m\n",
      "Sachin Ramesh Tendulkar (born 24 April 1973 in Mumbai) is a former Indian cricketer. He has the highest number of runs in both Test cricket and One Day Internationals. He also has the highest number of centuries in both formats of the game. His last Test match being played against the West Indies.He always honoured better players than him like Garfield Sobers or Don Bradman.\n",
      "\n",
      "\u001b[95mVirender Sehwag (41.067840576171875) -149.15155\u001b[0m\n",
      "\u001b[4mhttps://simple.wikipedia.org/wiki?curid=569045\u001b[0m\n",
      "Virender Sehwag is a former Indian cricketer and former captain of the Indian National Cricket Team. He was renowned as a destructive and aggressive player. He holds numerous records in international and Indian cricket. He is a right arm batsman and right arm off-spin bowler.\n",
      "\n",
      "\u001b[95mVirender Sehwag (41.067840576171875) -148.69095\u001b[0m\n",
      "\u001b[4mhttps://simple.wikipedia.org/wiki?curid=569045\u001b[0m\n",
      "Sehwag was the first Indian batsman to score Triple century in Test cricket. He scored 319 off 278 balls against South Africa in M. A. Chidambaram Stadium. It is the fastest triple century since then. He holds the massive Indian record of scoring the fastest 300,250,200 and 150 in Test cricket. Sehwag is the only personality of any nationality to be honoured as the Wisden Leading Cricketer in the World twice.\n",
      "\n"
     ]
    }
   ],
   "source": [
    "query_result = semantic_search(\"famous cricketer in India\")\n",
    "\n",
    "# Print out the result\n",
    "print_result(query_result)"
   ]
  },
  {
   "cell_type": "markdown",
   "id": "efd27f7d",
   "metadata": {},
   "source": [
    "## Pass the relevant documents as individual context to Generate from:"
   ]
  },
  {
   "cell_type": "code",
   "execution_count": 82,
   "id": "4cbee297",
   "metadata": {},
   "outputs": [],
   "source": [
    "generatePrompt = \"Write me some interview questions I can ask {title} here is some information about them {text}\"\n",
    "\n",
    "result = (\n",
    "  client.query\n",
    "  .get(\"Article\", [\"title\",\"text\"])\n",
    "  .with_generate(single_prompt=generatePrompt) # Pass in each obj 1 at a time\n",
    "  .with_near_text({\n",
    "    \"concepts\": [\"famous cricketer in India\"]\n",
    "  })\n",
    "  .with_limit(3)\n",
    ").do()"
   ]
  },
  {
   "cell_type": "code",
   "execution_count": 83,
   "id": "713d9ff0",
   "metadata": {},
   "outputs": [
    {
     "name": "stdout",
     "output_type": "stream",
     "text": [
      "Generated Text:\n",
      "1. What inspired you to pursue a career in cricket?\n",
      "2. What has been the most memorable moment of your cricketing career?\n",
      "3. How has your leadership style evolved over the years?\n",
      "4. What do you think are the key elements of success in cricket?\n",
      "5. What has been the most challenging part of captaining the Indian cricket team?\n",
      "6. What do you think are the biggest changes you have seen in the game since you started playing?\n",
      "7. How do you stay motivated and focused on the game?\n",
      "8. What advice would you give to aspiring cricketers?\n",
      "9. What do you think are the biggest challenges facing cricket today?\n",
      "10. What do you think of the recent recognition of having a stand named after you in Delhi Firoz Shah Kotla stadium?\n",
      "\n",
      "Relevant Context:\n",
      "Virat Kohli\n",
      "\n"
     ]
    }
   ],
   "source": [
    "print(\"Generated Text:\\n\" + result['data']['Get']['Article'][0]['_additional']['generate']['singleResult']+\"\\n\")\n",
    "\n",
    "\n",
    "print(\"Relevant Context:\\n\" + result['data']['Get']['Article'][0]['title']+\"\\n\")"
   ]
  },
  {
   "cell_type": "code",
   "execution_count": 84,
   "id": "2b3a7561",
   "metadata": {},
   "outputs": [],
   "source": [
    "generatePrompt = \"Write me a heroic tale about {title} here are some of thier accomplishments {text}\"\n",
    "\n",
    "result = (\n",
    "  client.query\n",
    "  .get(\"Article\", [\"title\",\"text\"])\n",
    "  .with_generate(single_prompt=generatePrompt) # Pass in each obj 1 at a time\n",
    "  .with_near_text({\n",
    "    \"concepts\": [\"famous cricketer in India\"]\n",
    "  })\n",
    "  .with_limit(3)\n",
    ").do()"
   ]
  },
  {
   "cell_type": "code",
   "execution_count": 85,
   "id": "540a6385",
   "metadata": {},
   "outputs": [
    {
     "name": "stdout",
     "output_type": "stream",
     "text": [
      "Generated Text:\n",
      "Once upon a time, there was a young man named Rahul Dravid. He was born in India and had a passion for cricket. He was determined to make a name for himself in the sport and worked hard to hone his skills.\n",
      "\n",
      "At the age of 18, Rahul was selected to play for the Indian national cricket team. He quickly rose to fame and became one of the most respected players in the world. He was known for his calm demeanor and his ability to stay focused under pressure.\n",
      "\n",
      "As the years went by, Rahul continued to excel in the sport. He scored the fourth-most runs of any player, after Sachin Tendulkar, Ricky Ponting and Jacques Kallis. He was the only player in the world to score a century against all ten test playing countries.\n",
      "\n",
      "Rahul was also known for his leadership skills. He was appointed captain of the Indian national cricket team and led them to many victories. He was a role model for many young players and inspired them to pursue their dreams.\n",
      "\n",
      "One day, Rahul was faced with a difficult decision. He had to choose between continuing to play cricket or retiring from the sport. After much thought, he decided to retire and focus on his family.\n",
      "\n",
      "Although Rahul is no longer playing cricket, his legacy lives on. He is remembered as a hero and an inspiration to many. He will always be remembered for his courage, determination and leadership.\n",
      "\n",
      "Relevant Context:\n",
      "Rahul Dravid\n",
      "\n"
     ]
    }
   ],
   "source": [
    "print(\"Generated Text:\\n\" + result['data']['Get']['Article'][1]['_additional']['generate']['singleResult']+\"\\n\")\n",
    "\n",
    "print(\"Relevant Context:\\n\" + result['data']['Get']['Article'][1]['title']+\"\\n\")"
   ]
  },
  {
   "cell_type": "code",
   "execution_count": 86,
   "id": "15a4c12a",
   "metadata": {},
   "outputs": [
    {
     "name": "stdout",
     "output_type": "stream",
     "text": [
      "Generated Text:\n",
      "Once upon a time, there lived a young boy named Sachin Tendulkar. He was born in Mumbai and had a passion for cricket from a very young age. He would practice for hours on end, honing his skills and perfecting his technique.\n",
      "\n",
      "One day, Sachin was playing a match against a team of much older and more experienced players. Despite his young age, Sachin was determined to prove himself and show that he could compete with the best.\n",
      "\n",
      "He batted with great skill and determination, and soon the other team was in awe of his talent. Sachin scored a century, and the crowd erupted in cheers. He had achieved something that no other player had done before.\n",
      "\n",
      "Sachin's heroic performance inspired many young players to take up the sport and follow in his footsteps. He became a role model for aspiring cricketers, and his name became synonymous with excellence.\n",
      "\n",
      "Sachin went on to become one of the greatest cricketers of all time, and his legacy lives on. He is remembered for his skill, determination, and courage, and will always be remembered as a hero.\n",
      "\n",
      "Generated Text:\n",
      "Sachin Tendulkar\n",
      "\n"
     ]
    }
   ],
   "source": [
    "print(\"Generated Text:\\n\" + result['data']['Get']['Article'][2]['_additional']['generate']['singleResult']+\"\\n\")\n",
    "\n",
    "print(\"Generated Text:\\n\" + result['data']['Get']['Article'][2]['title']+\"\\n\")"
   ]
  },
  {
   "cell_type": "markdown",
   "id": "312f208e",
   "metadata": {},
   "source": [
    "## Passing all relevant document to Complete a Task specified in the Prompt: Grouped Task"
   ]
  },
  {
   "cell_type": "code",
   "execution_count": 87,
   "id": "5456bb59",
   "metadata": {},
   "outputs": [
    {
     "name": "stdout",
     "output_type": "stream",
     "text": [
      "Generated Text:\n",
      "Sachin Tendulkar, Brian Lara, Ricky Ponting, Virat Kohli, Steve Smith, AB de Villiers, Jacques Kallis, Mahendra Singh Dhoni, Kumar Sangakkara, Adam Gilchrist.\n",
      "Article Titles Provided as Context:\n",
      "\n",
      "Cricket\n",
      "\n",
      "Cricket\n",
      "\n",
      "Cricket\n",
      "\n",
      "Cricket (insect)\n",
      "\n",
      "Cricket\n",
      "\n",
      "Cricket (insect)\n",
      "\n",
      "Victoria (Australia)\n",
      "\n",
      "Cricket\n",
      "\n",
      "Comparison of baseball and cricket\n",
      "\n",
      "Cricket (insect)\n",
      "\n",
      "Crossroads (British TV series)\n",
      "\n",
      "Cricket World Cup\n",
      "\n",
      "Cricket pitch\n",
      "\n",
      "First-class cricket\n",
      "\n",
      "Cricket\n",
      "\n"
     ]
    }
   ],
   "source": [
    "generateTask = \"Which of these cricketers in {text} is the most accomplished. Choose atleast one\"\n",
    "\n",
    "result = (\n",
    "  client.query\n",
    "  .get(\"Article\", [\"title\",\"text\"])\n",
    "  .with_generate(grouped_task=generateTask)\n",
    "  .with_near_text({\n",
    "    \"concepts\": [\"cricket\"]\n",
    "  })\n",
    "  .with_limit(15)\n",
    ").do()\n",
    "\n",
    "print(\"Generated Text:\\n\" + result['data']['Get']['Article'][0]['_additional']['generate']['groupedResult']+\"\\n\"+\"Article Titles Provided as Context:\\n\")\n",
    "\n",
    "k = [print(result['data']['Get']['Article'][i]['title']+\"\\n\") for i in range(len(result['data']['Get']['Article']))]"
   ]
  },
  {
   "cell_type": "code",
   "execution_count": 88,
   "id": "0b4fd599",
   "metadata": {},
   "outputs": [
    {
     "name": "stdout",
     "output_type": "stream",
     "text": [
      "Generated Text:\n",
      "The most accomplished cricketer in this list is Sachin Tendulkar. He is widely regarded as one of the greatest batsmen in the history of cricket. He has scored the most runs and centuries in both Test and One Day International cricket. He has also taken the most wickets in Test cricket. He is the only player to have scored a double century in One Day Internationals and is the only player to have scored 100 international centuries. He is also the first player to score a century in all three formats of the game. He has also been awarded the highest civilian award in India, the Bharat Ratna.\n",
      "\n",
      "Article Titles Provided as Context:\n",
      "\n",
      "Cricket\n",
      "\n",
      "Cricket\n",
      "\n",
      "Cricket\n",
      "\n",
      "Cricket (insect)\n",
      "\n",
      "Cricket\n",
      "\n",
      "Cricket (insect)\n",
      "\n",
      "Victoria (Australia)\n",
      "\n",
      "Cricket\n",
      "\n",
      "Comparison of baseball and cricket\n",
      "\n",
      "Cricket (insect)\n",
      "\n",
      "Crossroads (British TV series)\n",
      "\n",
      "Cricket World Cup\n",
      "\n",
      "Cricket pitch\n",
      "\n",
      "First-class cricket\n",
      "\n",
      "Cricket\n",
      "\n"
     ]
    }
   ],
   "source": [
    "generateTask = \"Which of these cricketers in {text} is the most accomplished. Choose atleast one and explain why\"\n",
    "\n",
    "result = (\n",
    "  client.query\n",
    "  .get(\"Article\", [\"title\", \"text\"])\n",
    "  .with_generate(grouped_task=generateTask)\n",
    "  .with_near_text({\n",
    "    \"concepts\": [\"cricket\"]\n",
    "  })\n",
    "  .with_limit(15)\n",
    ").do()\n",
    "\n",
    "print(\"Generated Text:\\n\" + result['data']['Get']['Article'][0]['_additional']['generate']['groupedResult']+\"\\n\\nArticle Titles Provided as Context:\\n\")\n",
    "\n",
    "k = [print(result['data']['Get']['Article'][i]['title']+\"\\n\") for i in range(len(result['data']['Get']['Article']))]"
   ]
  },
  {
   "cell_type": "code",
   "execution_count": 70,
   "id": "bd83ab98",
   "metadata": {},
   "outputs": [
    {
     "name": "stdout",
     "output_type": "stream",
     "text": [
      "Generated Text:\n",
      "The most accomplished cricketer mentioned in the text is Sachin Tendulkar. He has the highest number of runs in both Test cricket and One Day Internationals, and also has the highest number of centuries in both formats of the game. He is also the only player to have a stand named after him in Delhi Firoz Shah Kotla stadium to honour his immaculate contributions to Indian cricket. He is widely regarded as one of the greatest batsmen of all time.\n",
      "\n",
      "Article Titles Provided as Context:\n",
      "\n",
      "Rahul Dravid\n",
      "\n",
      "Virat Kohli\n",
      "\n",
      "Rahul Dravid\n",
      "\n",
      "Sachin Tendulkar\n",
      "\n",
      "Suresh Raina\n",
      "\n",
      "Anil Kumble\n",
      "\n",
      "Anil Kumble\n",
      "\n",
      "Mithali Raj\n",
      "\n",
      "Suresh Raina\n",
      "\n",
      "Rahul Dravid\n",
      "\n"
     ]
    }
   ],
   "source": [
    "generateTask = \"Which of these cricketers {title} mentioned in {text} is the most accomplished. Choose atleast one and explain why\"\n",
    "\n",
    "result = (\n",
    "  client.query\n",
    "  .get(\"Article\", [\"title\", \"text\"])\n",
    "  .with_generate(grouped_task=generateTask)\n",
    "  .with_near_text({\n",
    "    \"concepts\": [\"best cricket players from India\"]\n",
    "  })\n",
    "  .with_limit(10)\n",
    ").do()\n",
    "\n",
    "print(\"Generated Text:\\n\" + result['data']['Get']['Article'][0]['_additional']['generate']['groupedResult']+\"\\n\\nArticle Titles Provided as Context:\\n\")\n",
    "\n",
    "k = [print(result['data']['Get']['Article'][i]['title']+\"\\n\") for i in range(len(result['data']['Get']['Article']))]"
   ]
  },
  {
   "cell_type": "code",
   "execution_count": 71,
   "id": "e7bfd81a",
   "metadata": {},
   "outputs": [
    {
     "name": "stdout",
     "output_type": "stream",
     "text": [
      "Generated Text:\n",
      "These results are all similar because they all relate to cricket in some way. Suresh Raina, Mithali Raj, and Vadodara are all related to cricket, as they are all related to Indian cricket players and a cricket stadium. The India national cricket team is also related to cricket, as it is the national cricket team of India.\n",
      "\n",
      "Article Titles Provided as Context:\n",
      "\n",
      "Suresh Raina\n",
      "\n",
      "Mithali Raj\n",
      "\n",
      "Mithali Raj\n",
      "\n",
      "Vadodara\n",
      "\n",
      "India national cricket team\n",
      "\n"
     ]
    }
   ],
   "source": [
    "generateTask = \"Explain why these {text} results are all similar \"\n",
    "\n",
    "result = (\n",
    "  client.query\n",
    "  .get(\"Article\", [\"title\",\"text\"])\n",
    "  .with_generate(grouped_task=generateTask)\n",
    "  .with_near_text({\n",
    "    \"concepts\": [\"cricketers from india\"]\n",
    "  })\n",
    "  .with_limit(5)\n",
    ").do()\n",
    "\n",
    "print(\"Generated Text:\\n\" + result['data']['Get']['Article'][0]['_additional']['generate']['groupedResult']+\"\\n\\nArticle Titles Provided as Context:\\n\")\n",
    "\n",
    "k = [print(result['data']['Get']['Article'][i]['title']+\"\\n\") for i in range(len(result['data']['Get']['Article']))]"
   ]
  },
  {
   "cell_type": "code",
   "execution_count": 75,
   "id": "9c11d054",
   "metadata": {},
   "outputs": [
    {
     "name": "stdout",
     "output_type": "stream",
     "text": [
      "Generated Text:\n",
      "Once upon a time, there was a great cricket tournament that pitted the greatest cricket players in the world against each other. The tournament featured Rahul Dravid, Sachin Tendulkar, Virat Kohli, and Anil Kumble.\n",
      "\n",
      "The tournament was a thrilling affair, with each player giving their all to win. Rahul Dravid was the first to make a mark, scoring 270 runs in a single inning of the Test match. Sachin Tendulkar followed suit, scoring the highest number of runs in both Test cricket and One Day Internationals. Virat Kohli was also impressive, leading the Indian U-19 cricket team to victory in 2008 U-19 Cricket World Cup and becoming one of the most valuable Indian captains in Test cricket. Anil Kumble was the last to make an impact, with his right arm leg spin bowling proving to be a formidable force.\n",
      "\n",
      "The tournament went on for days, with each player giving their all to win. In the end, it was Rahul Dravid who emerged victorious, with his impressive batting score of 270 runs in a single inning of the Test match proving to be the deciding factor. Sachin Tendulkar came in second, followed by Virat Kohli and Anil Kumble.\n",
      "\n",
      "The tournament was a great success, and it was a testament to the skill and determination of each of the players. It was a thrilling affair, and it will be remembered for years to come.\n",
      "\n",
      "Article Text Provided as Context:\n",
      "\n",
      "Rahul Dravid\n",
      "\n",
      "Sachin Tendulkar\n",
      "\n",
      "Virat Kohli\n",
      "\n",
      "Anil Kumble\n",
      "\n",
      "Rahul Dravid\n",
      "\n"
     ]
    }
   ],
   "source": [
    "generateTask = \"Tell me a story where these people {title} fight each other, here's some information about them {text}\"\n",
    "\n",
    "result = (\n",
    "  client.query\n",
    "  .get(\"Article\", [\"title\",'text'])\n",
    "  .with_generate(grouped_task=generateTask)\n",
    "  .with_near_text({\n",
    "    \"concepts\": [\"best indian cricketers\"]\n",
    "  })\n",
    "  .with_limit(5)\n",
    ").do()\n",
    "\n",
    "print(\"Generated Text:\\n\" + result['data']['Get']['Article'][0]['_additional']['generate']['groupedResult']+\"\\n\\nArticle Text Provided as Context:\\n\")\n",
    "\n",
    "k = [print(result['data']['Get']['Article'][i]['title']+\"\\n\") for i in range(len(result['data']['Get']['Article']))]"
   ]
  },
  {
   "attachments": {
    "image.png": {
     "image/png": "[encoded data removed]"
    }
   },
   "cell_type": "markdown",
   "id": "1b5f3b03",
   "metadata": {},
   "source": [
    "### Learn more in the Weaviate Docs\n",
    "![image.png](attachment:image.png)"
   ]
  },
  {
   "cell_type": "code",
   "execution_count": null,
   "id": "90955f40",
   "metadata": {},
   "outputs": [],
   "source": []
  }
 ],
 "metadata": {
  "kernelspec": {
   "display_name": "Python 3 (ipykernel)",
   "language": "python",
   "name": "python3"
  },
  "language_info": {
   "codemirror_mode": {
    "name": "ipython",
    "version": 3
   },
   "file_extension": ".py",
   "mimetype": "text/x-python",
   "name": "python",
   "nbconvert_exporter": "python",
   "pygments_lexer": "ipython3",
   "version": "3.9.15"
  }
 },
 "nbformat": 4,
 "nbformat_minor": 5
}
